{
 "cells": [
  {
   "cell_type": "code",
   "execution_count": 1,
   "metadata": {
    "colab": {
     "base_uri": "https://localhost:8080/"
    },
    "executionInfo": {
     "elapsed": 2600,
     "status": "ok",
     "timestamp": 1694792610031,
     "user": {
      "displayName": "Zehui Zhao",
      "userId": "13690192606367135968"
     },
     "user_tz": 240
    },
    "id": "3kF3O5d9-uEa",
    "outputId": "a95da4a1-24e3-44f4-8af3-574631bffff3"
   },
   "outputs": [],
   "source": [
    "from pathlib import Path\n",
    "import time\n",
    "import jax.numpy as jnp\n",
    "import numpy as np\n",
    "import matplotlib.pyplot as plt\n",
    "\n",
    "exec(open(\"../functions.py\").read())"
   ]
  },
  {
   "cell_type": "code",
   "execution_count": null,
   "metadata": {},
   "outputs": [],
   "source": [
    "time.sleep(130*60)"
   ]
  },
  {
   "cell_type": "code",
   "execution_count": null,
   "metadata": {
    "colab": {
     "base_uri": "https://localhost:8080/"
    },
    "executionInfo": {
     "elapsed": 909,
     "status": "ok",
     "timestamp": 1694792614068,
     "user": {
      "displayName": "Zehui Zhao",
      "userId": "13690192606367135968"
     },
     "user_tz": 240
    },
    "id": "rcy86Jf2_s2J",
    "outputId": "3c7b8f05-47f2-4989-ee4c-03f3432f6a9d"
   },
   "outputs": [],
   "source": [
    "# set basic parameters and subdirectory\n",
    "part_n = 500\n",
    "e_part_r = 0.8\n",
    "e_mean = 0\n",
    "ei_std_s = [4, 4]\n",
    "waiting_time = 300\n",
    "interval_len = 1300\n",
    "freq = 0.1\n",
    "subdirectory = (\"{:n}_\".format(part_n)\n",
    "                + \"{:n}_\".format(e_part_r)\n",
    "                + \"{:n}_\".format(e_mean)\n",
    "                + \"{0:n}-{1:n}/\".format(ei_std_s[0],\n",
    "                                        ei_std_s[1]))\n",
    "#Path(subdirectory).mkdir()\n",
    "print(ei_spectral_radius_fct(e_part_r, ei_std_s))\n",
    "\n",
    "seed = 1695418797#round(time.time())\n",
    "subdirectory = (subdirectory + \"{:n}_\".format(seed)\n",
    "                + \"{0:n}-{1:n}_\".format(interval_len, \n",
    "                                        waiting_time)\n",
    "                + \"{:n}/\".format(freq))\n",
    "#Path(subdirectory).mkdir()\n",
    "print(subdirectory)"
   ]
  },
  {
   "cell_type": "code",
   "execution_count": null,
   "metadata": {
    "executionInfo": {
     "elapsed": 8840,
     "status": "ok",
     "timestamp": 1694791054127,
     "user": {
      "displayName": "Zehui Zhao",
      "userId": "13690192606367135968"
     },
     "user_tz": 240
    },
    "id": "h6I2JHNaYgpE"
   },
   "outputs": [],
   "source": [
    "# generate and save parameters for simulation\n",
    "key = jax.random.PRNGKey(seed)\n",
    "\n",
    "sub_part_r_s = jnp.asarray([e_part_r, 1 - e_part_r])\n",
    "sub_part_n_s = sub_part_n_s_fct(part_n, sub_part_r_s)\n",
    "unscaled_mean = ei_mean_balancer(sub_part_r_s, e_mean)\n",
    "unscaled_std = jnp.tile(jnp.asarray([ei_std_s]), (2, 1))\n",
    "connectivity_n = 5\n",
    "in_r = 1.\n",
    "rewiring_prob = 1.\n",
    "[connectivity_s, key] = row_sum_removing_sparsifier(connectivity_s_generator(sub_part_n_s,\n",
    "                                                                             unscaled_mean, unscaled_std,\n",
    "                                                                             connectivity_n,\n",
    "                                                                             key),\n",
    "                                                    sub_part_n_s, in_r, rewiring_prob)\n",
    "jnp.savez(subdirectory + \"parameter_s_1.npz\",\n",
    "          sub_part_r_s, sub_part_n_s, unscaled_mean, unscaled_std,\n",
    "          connectivity_n,\n",
    "          in_r, rewiring_prob,\n",
    "          connectivity_s)\n",
    "\n",
    "sub_part_n_s_ext_gen = jnp.asarray([part_n])\n",
    "ext_part_n = part_n // 100\n",
    "ext_sub_part_r_s = jnp.asarray([1.])\n",
    "ext_sub_part_n_s = sub_part_n_s_fct(ext_part_n, ext_sub_part_r_s)\n",
    "unscaled_ext_mean = jnp.asarray([[0.]])\n",
    "unscaled_ext_std = jnp.asarray([[1.]])\n",
    "ext_connectivity_n = 3\n",
    "[ext_connectivity_s, key] = ext_connectivity_s_generator(sub_part_n_s_ext_gen, ext_sub_part_n_s,\n",
    "                                                         unscaled_ext_mean, unscaled_ext_std,\n",
    "                                                         ext_connectivity_n,\n",
    "                                                         key)\n",
    "jnp.savez(subdirectory + \"parameter_s_2.npz\",\n",
    "          sub_part_n_s_ext_gen, \n",
    "          ext_part_n, ext_sub_part_r_s,\n",
    "          ext_sub_part_n_s,\n",
    "          unscaled_ext_mean, unscaled_ext_std, \n",
    "          ext_connectivity_n,\n",
    "          ext_connectivity_s)\n",
    "\n",
    "phase_n = 3\n",
    "[phase_s, key] = phase_s_generator(ext_part_n, phase_n, key)\n",
    "jnp.savez(subdirectory + \"parameter_s_3.npz\",\n",
    "          phase_n,\n",
    "          phase_s)\n",
    "\n",
    "amp_s = jnp.expand_dims(jnp.asarray([0.2, 0.5, 1., 8., 12.]), \n",
    "                        # or (wave_n, ext_part_n) array so different ext parts have different amps\n",
    "                        1)\n",
    "freq_s = jnp.full(amp_s.shape, freq)\n",
    "wave_s = jnp.concatenate([amp_s, freq_s], axis = 1)\n",
    "wave_n = wave_s.shape[0]\n",
    "jnp.savez(subdirectory + \"parameter_s_4.npz\",\n",
    "          amp_s, freq_s,\n",
    "          wave_s,\n",
    "          wave_n)\n",
    "\n",
    "init_condition_n = 5\n",
    "ext_condition_n = ext_connectivity_n * phase_n\n",
    "init_condition_n_free = init_condition_n * ext_condition_n\n",
    "[init_condition_s, key] = init_condition_s_generator(part_n, \n",
    "                                                           jnp.full((part_n, ), 0), jnp.identity(part_n), \n",
    "                                                           init_condition_n_free, key)\n",
    "jnp.savez(subdirectory + \"parameter_s_5.npz\",\n",
    "          init_condition_n,\n",
    "          ext_condition_n, init_condition_n_free,\n",
    "          init_condition_s)\n",
    "\n",
    "label_s = jnp.asarray([1])\n",
    "label_s_free = jnp.asarray([0])\n",
    "time_interval_s = jnp.asarray([[0, interval_len]])\n",
    "window_len_s = jnp.asarray([10, 20, 50, 100, 200]) # used length = 1000\n",
    "jnp.savez(subdirectory + \"parameter_s_6.npz\",\n",
    "          label_s, label_s_free,\n",
    "          time_interval_s,\n",
    "          window_len_s)\n",
    "labeled_time_interval_s = [time_interval_s, label_s]\n",
    "labeled_time_interval_s_free = [time_interval_s, label_s_free]\n",
    "\n",
    "resolution = 24\n",
    "jnp.savez(subdirectory + \"parameter_s_7.npz\",\n",
    "          resolution)\n",
    "\n",
    "condition_n_s = jnp.asarray([connectivity_n, wave_n, ext_connectivity_n, phase_n,\n",
    "                             init_condition_n])\n",
    "condition_n_s_free = jnp.asarray([connectivity_n, 1, 1, 1,\n",
    "                                  init_condition_n_free])\n",
    "samp_separation = samp_separation_fct(interval_len - waiting_time, resolution, window_len_s, 48, 10)"
   ]
  },
  {
   "cell_type": "code",
   "execution_count": null,
   "metadata": {
    "executionInfo": {
     "elapsed": 640,
     "status": "ok",
     "timestamp": 1694792629487,
     "user": {
      "displayName": "Zehui Zhao",
      "userId": "13690192606367135968"
     },
     "user_tz": 240
    },
    "id": "Jq_wqYWYzP4-"
   },
   "outputs": [],
   "source": [
    "# load parameters\n",
    "[sub_part_r_s, sub_part_n_s, unscaled_mean, unscaled_std,\n",
    " connectivity_n,\n",
    " in_r, rewiring_prob,\n",
    " connectivity_s] = load_as_list(subdirectory + \"parameter_s_1.npz\")\n",
    "\n",
    "[sub_part_n_s_ext_gen, \n",
    " ext_part_n, ext_sub_part_r_s,\n",
    " ext_sub_part_n_s,\n",
    " unscaled_ext_mean, unscaled_ext_std, \n",
    " ext_connectivity_n,\n",
    " ext_connectivity_s] = load_as_list(subdirectory + \"parameter_s_2.npz\")\n",
    "\n",
    "[phase_n,\n",
    " phase_s] = load_as_list(subdirectory + \"parameter_s_3.npz\")\n",
    "\n",
    "[amp_s, freq_s,\n",
    " wave_s,\n",
    " wave_n] = load_as_list(subdirectory + \"parameter_s_4.npz\")\n",
    "\n",
    "[init_condition_n,\n",
    " ext_condition_n, init_condition_n_free,\n",
    " init_condition_s] = load_as_list(subdirectory + \"parameter_s_5.npz\")\n",
    "\n",
    "[label_s, label_s_free,\n",
    " time_interval_s,\n",
    " window_len_s] = load_as_list(subdirectory + \"parameter_s_6.npz\")\n",
    "labeled_time_interval_s = [time_interval_s, label_s]\n",
    "labeled_time_interval_s_free = [time_interval_s, label_s_free]\n",
    "\n",
    "[resolution] = load_as_list(subdirectory + \"parameter_s_7.npz\")\n",
    "\n",
    "condition_n_s = jnp.asarray([connectivity_n, wave_n, ext_connectivity_n, phase_n,\n",
    "                             init_condition_n])\n",
    "condition_n_s_free = jnp.asarray([connectivity_n, 1, 1, 1,\n",
    "                                  init_condition_n_free])\n",
    "samp_separation = samp_separation_fct(interval_len - waiting_time, resolution, window_len_s, 48, 10)"
   ]
  },
  {
   "cell_type": "code",
   "execution_count": null,
   "metadata": {
    "colab": {
     "base_uri": "https://localhost:8080/",
     "height": 147
    },
    "executionInfo": {
     "elapsed": 1253,
     "status": "ok",
     "timestamp": 1694791055376,
     "user": {
      "displayName": "Zehui Zhao",
      "userId": "13690192606367135968"
     },
     "user_tz": 240
    },
    "id": "Y0xRpQYrGWeG",
    "outputId": "01288d61-fc5d-4efa-f631-4ce3b2073aa5"
   },
   "outputs": [],
   "source": [
    "# plot spectra\n",
    "[fig, subfig_s] = plt.subplots(1, int(connectivity_n))\n",
    "for connectivity_idx in range(connectivity_n):\n",
    "  temp_spectrum = jnp.linalg.eig(connectivity_s[connectivity_idx])[0]\n",
    "  subfig_s[connectivity_idx].plot(jnp.real(temp_spectrum), jnp.imag(temp_spectrum),\n",
    "                                  linestyle=\"\", marker=\".\", markersize = 2)\n",
    "  subfig_s[connectivity_idx].set_aspect('equal')"
   ]
  },
  {
   "cell_type": "code",
   "execution_count": null,
   "metadata": {},
   "outputs": [],
   "source": [
    "# initialize and run stats\n",
    "kernel_power = \"inf\"\n",
    "def short_multi_len_pr_tr_os_s_fct(traj):\n",
    "  return(multi_len_pr_tr_os_s_fct(traj[..., (waiting_time * resolution):], resolution,\n",
    "                                  window_len_s, int(samp_separation), kernel_power))\n",
    "\n",
    "start_time = time.time()\n",
    "\n",
    "stat_s_free = multi_len_pr_tr_os_s_initializer(condition_n_s_free, window_len_s)\n",
    "stat_s_free = stat_s_fct(connectivity_s, wave_s[:1], ext_connectivity_s[:1], phase_s[:1], init_condition_s,\n",
    "                         labeled_time_interval_s_free, resolution,\n",
    "                         short_multi_len_pr_tr_os_s_fct, stat_s_free)\n",
    "np.savez_compressed(subdirectory + \"stats_free.npz\", *stat_s_free) # jax has not implemented savez_compressed as of 23/08/23\n",
    "\n",
    "stat_s = multi_len_pr_tr_os_s_initializer(condition_n_s, window_len_s)\n",
    "stat_s = stat_s_fct(connectivity_s, wave_s, ext_connectivity_s, phase_s, init_condition_s[::ext_condition_n],\n",
    "                    labeled_time_interval_s, resolution, \n",
    "                    short_multi_len_pr_tr_os_s_fct, stat_s)\n",
    "np.savez_compressed(subdirectory + \"stats.npz\", *stat_s)\n",
    "\n",
    "end_time = time.time()\n",
    "print(\"took {:.2f} mins\".format((end_time - start_time) / 60))"
   ]
  },
  {
   "cell_type": "code",
   "execution_count": null,
   "metadata": {
    "executionInfo": {
     "elapsed": 6213,
     "status": "ok",
     "timestamp": 1694792799220,
     "user": {
      "displayName": "Zehui Zhao",
      "userId": "13690192606367135968"
     },
     "user_tz": 240
    },
    "id": "CVjqnBWpW6-m"
   },
   "outputs": [],
   "source": [
    "# load trajs\n",
    "stat_s_free = load_as_list(subdirectory + \"stats_free.npz\")\n",
    "stat_s = load_as_list(subdirectory + \"stats.npz\")"
   ]
  },
  {
   "cell_type": "markdown",
   "metadata": {
    "id": "UIfLyRWcurqN"
   },
   "source": [
    "plotting"
   ]
  },
  {
   "cell_type": "code",
   "execution_count": null,
   "metadata": {},
   "outputs": [],
   "source": [
    "foo = jrandom.normal(jrandom.PRNGKey(seed), (2,1500, ))\n",
    "long_bar = size_s_fct(es_s_fct(cov_s_fct(foo, mean_s_fct(foo)))[0])\n",
    "bar = multi_len_pr_tr_os_s_fct(foo, 56, jnp.asarray([20,100,200]), 100, \"inf\")[1]\n",
    "print(long_bar, bar)"
   ]
  },
  {
   "cell_type": "code",
   "execution_count": null,
   "metadata": {},
   "outputs": [],
   "source": [
    "[pr_s_free, tr_s_free, os_s_free] = stat_s_free\n",
    "[pr_s, tr_s, os_s] = stat_s"
   ]
  },
  {
   "cell_type": "code",
   "execution_count": null,
   "metadata": {},
   "outputs": [],
   "source": [
    "#making sure nothing is strange from the trs\n",
    "[fig, subfig_s] = plt.subplots(wave_n + 1, 1, figsize = (9, 5))\n",
    "subfig_s[0].plot(tr_s_free[..., -1].flatten(), label = 0., \n",
    "                 marker='.', linestyle='')\n",
    "for wave_idx in range(wave_n):\n",
    "  subfig_s[wave_idx + 1].plot(tr_s[:, wave_idx, ..., -1].flatten(), label = amp_s[wave_idx, 0],\n",
    "                              marker='.', linestyle='')\n",
    "plt.setp(subfig_s, ylim=(0,1))"
   ]
  },
  {
   "cell_type": "code",
   "execution_count": null,
   "metadata": {},
   "outputs": [],
   "source": [
    "def temp_val_fct(stat_s_wrt_amp_s):\n",
    "  return([jnp.concatenate([fct(stat_s, axis = (0,2,3,4))\n",
    "                           for stat_s in stat_s_wrt_amp_s], axis = 0)\n",
    "          for fct in [jnp.mean, jnp.std]])\n",
    "\n",
    "def temp_r_fct(stat_s_wrt_amp_s):\n",
    "  return([jnp.concatenate([fct(stat_s / stat_s[...,-1:], axis = (0,2,3,4))\n",
    "                           for stat_s in stat_s_wrt_amp_s], axis = 0)\n",
    "          for fct in [jnp.mean, jnp.std]])\n",
    "\n",
    "val_r_stat_s = [[temp_val_fct([pr_s_free, pr_s]), \n",
    "                 temp_val_fct([tr_s_free, tr_s]), \n",
    "                 temp_val_fct([os_s_free, os_s])],\n",
    "                [temp_r_fct([pr_s_free, pr_s]), \n",
    "                 temp_r_fct([tr_s_free, tr_s]), \n",
    "                 temp_r_fct([os_s_free, os_s])]]\n",
    "\n",
    "plot_amp_s = jnp.insert(amp_s, 0, 0)\n",
    "plot_window_len_s = jnp.append(window_len_s, interval_len - waiting_time)\n",
    "[fig, subfig_s] = plt.subplots(2, 3, figsize = (20,12))\n",
    "for val_or_r in range(2):\n",
    "  subfig_s[val_or_r,0].title.set_text(\"pr\")\n",
    "  subfig_s[val_or_r,1].title.set_text(\"tr\")\n",
    "  subfig_s[val_or_r,2].title.set_text(\"os\")\n",
    "  for stat_idx in range(3):\n",
    "    for amp_idx in range(wave_n + 1):\n",
    "      subfig_s[val_or_r,stat_idx].errorbar(plot_window_len_s,\n",
    "                           val_r_stat_s[val_or_r][stat_idx][0][amp_idx],\n",
    "                           yerr = val_r_stat_s[val_or_r][stat_idx][1][amp_idx],\n",
    "                           capsize = 2, label = str(plot_amp_s[amp_idx]))\n",
    "    subfig_s[val_or_r,stat_idx].set_xscale(\"log\")\n",
    "    subfig_s[val_or_r,stat_idx].set_xticks(plot_window_len_s, labels = plot_window_len_s)\n",
    "    subfig_s[val_or_r,stat_idx].legend()\n",
    "    subfig_s[val_or_r,stat_idx].grid()"
   ]
  },
  {
   "cell_type": "code",
   "execution_count": null,
   "metadata": {},
   "outputs": [],
   "source": []
  }
 ],
 "metadata": {
  "colab": {
   "provenance": []
  },
  "kernelspec": {
   "display_name": "Python 3 (ipykernel)",
   "language": "python",
   "name": "python3"
  },
  "language_info": {
   "codemirror_mode": {
    "name": "ipython",
    "version": 3
   },
   "file_extension": ".py",
   "mimetype": "text/x-python",
   "name": "python",
   "nbconvert_exporter": "python",
   "pygments_lexer": "ipython3",
   "version": "3.11.5"
  }
 },
 "nbformat": 4,
 "nbformat_minor": 4
}
