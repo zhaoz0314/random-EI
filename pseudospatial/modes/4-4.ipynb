{
 "cells": [
  {
   "cell_type": "code",
   "execution_count": 1,
   "metadata": {
    "colab": {
     "base_uri": "https://localhost:8080/"
    },
    "executionInfo": {
     "elapsed": 2600,
     "status": "ok",
     "timestamp": 1694792610031,
     "user": {
      "displayName": "Zehui Zhao",
      "userId": "13690192606367135968"
     },
     "user_tz": 240
    },
    "id": "3kF3O5d9-uEa",
    "outputId": "a95da4a1-24e3-44f4-8af3-574631bffff3"
   },
   "outputs": [],
   "source": [
    "from pathlib import Path\n",
    "import time\n",
    "import jax.numpy as jnp\n",
    "import numpy as np\n",
    "import matplotlib.pyplot as plt\n",
    "\n",
    "exec(open(\"../functions.py\").read())"
   ]
  },
  {
   "cell_type": "code",
   "execution_count": 3,
   "metadata": {
    "colab": {
     "base_uri": "https://localhost:8080/"
    },
    "executionInfo": {
     "elapsed": 909,
     "status": "ok",
     "timestamp": 1694792614068,
     "user": {
      "displayName": "Zehui Zhao",
      "userId": "13690192606367135968"
     },
     "user_tz": 240
    },
    "id": "rcy86Jf2_s2J",
    "outputId": "3c7b8f05-47f2-4989-ee4c-03f3432f6a9d"
   },
   "outputs": [
    {
     "name": "stdout",
     "output_type": "stream",
     "text": [
      "4.0\n",
      "500_0.8_4_4-4_900-300/1695235336/\n"
     ]
    }
   ],
   "source": [
    "# set basic parameters and subdirectory\n",
    "part_n = 500\n",
    "e_part_r = 0.8\n",
    "e_mean = 4\n",
    "ei_std_s = [4, 4]\n",
    "waiting_len = 300\n",
    "interval_len = 900\n",
    "subdirectory = (\"{:n}_\".format(part_n)\n",
    "                + \"{:n}_\".format(e_part_r)\n",
    "                + \"{:n}_\".format(e_mean)\n",
    "                + \"{0:n}-{1:n}_\".format(ei_std_s[0],\n",
    "                                        ei_std_s[1])\n",
    "                + \"{0:n}-{1:n}/\".format(interval_len, \n",
    "                                        waiting_len))\n",
    "Path(subdirectory).mkdir()\n",
    "print(ei_spectral_radius_fct(e_part_r, ei_std_s))\n",
    "\n",
    "seed = 1695235336#round(time.time())\n",
    "subdirectory = subdirectory + \"{:n}\".format(seed) + \"/\"\n",
    "Path(subdirectory).mkdir()\n",
    "print(subdirectory)"
   ]
  },
  {
   "cell_type": "code",
   "execution_count": 4,
   "metadata": {
    "executionInfo": {
     "elapsed": 8840,
     "status": "ok",
     "timestamp": 1694791054127,
     "user": {
      "displayName": "Zehui Zhao",
      "userId": "13690192606367135968"
     },
     "user_tz": 240
    },
    "id": "h6I2JHNaYgpE"
   },
   "outputs": [],
   "source": [
    "# generate and save parameters for simulation\n",
    "key = jax.random.PRNGKey(seed)\n",
    "\n",
    "sub_part_r_s = jnp.asarray([e_part_r, 1 - e_part_r])\n",
    "sub_part_n_s = sub_part_n_s_fct(part_n, sub_part_r_s)\n",
    "unscaled_mean = ei_mean_balancer(sub_part_r_s, e_mean)\n",
    "unscaled_std = jnp.tile(jnp.asarray([ei_std_s]), (2, 1))\n",
    "connectivity_n = 5\n",
    "in_r = 1.\n",
    "rewiring_prob = 1.\n",
    "[connectivity_s, key] = row_sum_removing_sparsifier(connectivity_s_generator(sub_part_n_s,\n",
    "                                                                             unscaled_mean, unscaled_std,\n",
    "                                                                             connectivity_n,\n",
    "                                                                             key),\n",
    "                                                    sub_part_n_s, in_r, rewiring_prob)\n",
    "jnp.savez(subdirectory + \"parameter_s_1.npz\",\n",
    "          sub_part_r_s, sub_part_n_s, unscaled_mean, unscaled_std,\n",
    "          connectivity_n,\n",
    "          in_r, rewiring_prob,\n",
    "          connectivity_s)\n",
    "\n",
    "sub_part_n_s_ext_gen = jnp.asarray([part_n])\n",
    "ext_part_n = part_n // 100\n",
    "ext_sub_part_r_s = jnp.asarray([1.])\n",
    "ext_sub_part_n_s = sub_part_n_s_fct(ext_part_n, ext_sub_part_r_s)\n",
    "unscaled_ext_mean = jnp.asarray([[0.]])\n",
    "unscaled_ext_std = jnp.asarray([[1.]])\n",
    "ext_connectivity_n = 3\n",
    "[ext_connectivity_s, key] = ext_connectivity_s_generator(sub_part_n_s_ext_gen, ext_sub_part_n_s,\n",
    "                                                         unscaled_ext_mean, unscaled_ext_std,\n",
    "                                                         ext_connectivity_n,\n",
    "                                                         key)\n",
    "jnp.savez(subdirectory + \"parameter_s_2.npz\",\n",
    "          sub_part_n_s_ext_gen, \n",
    "          ext_part_n, ext_sub_part_r_s,\n",
    "          ext_sub_part_n_s,\n",
    "          unscaled_ext_mean, unscaled_ext_std, \n",
    "          ext_connectivity_n,\n",
    "          ext_connectivity_s)\n",
    "\n",
    "phase_n = 3\n",
    "[phase_s, key] = phase_s_generator(ext_part_n, phase_n, key)\n",
    "jnp.savez(subdirectory + \"parameter_s_3.npz\",\n",
    "          phase_n,\n",
    "          phase_s)\n",
    "\n",
    "amp_s = jnp.expand_dims(jnp.asarray([0.2, 0.4, 0.8]), 1) # or (wave_n, ext_part_n) arrays so different ext parts have different amps\n",
    "freq_s = jnp.full(amp_s.shape, 0.)\n",
    "wave_s = jnp.concatenate([amp_s, freq_s], axis = 1)\n",
    "wave_n = wave_s.shape[0]\n",
    "jnp.savez(subdirectory + \"parameter_s_4.npz\",\n",
    "          amp_s, freq_s,\n",
    "          wave_s,\n",
    "          wave_n)\n",
    "\n",
    "initial_condition_n = 5\n",
    "ext_condition_n = ext_connectivity_n * phase_n\n",
    "initial_condition_n_free = initial_condition_n * ext_condition_n\n",
    "[initial_condition_s, key] = initial_condition_s_generator(part_n, \n",
    "                                                           jnp.full((part_n, ), 0), jnp.identity(part_n), \n",
    "                                                           initial_condition_n_free, key)\n",
    "jnp.savez(subdirectory + \"parameter_s_5.npz\",\n",
    "          initial_condition_n,\n",
    "          ext_condition_n, initial_condition_n_free,\n",
    "          initial_condition_s)\n",
    "\n",
    "label_s = jnp.asarray([1])\n",
    "label_s_free = jnp.asarray([0])\n",
    "time_interval_s = jnp.asarray([[0, interval_len]])\n",
    "jnp.savez(subdirectory + \"parameter_s_6.npz\",\n",
    "          label_s, label_s_free,\n",
    "          time_interval_s)\n",
    "labeled_time_interval_s = [time_interval_s, label_s]\n",
    "labeled_time_interval_s_free = [time_interval_s, label_s_free]\n",
    "\n",
    "resolution = 24\n",
    "jnp.savez(subdirectory + \"parameter_s_7.npz\",\n",
    "          resolution)\n",
    "\n",
    "condition_n_s = jnp.asarray([connectivity_n, wave_n, ext_connectivity_n, phase_n,\n",
    "                             initial_condition_n])\n",
    "condition_n_s_free = jnp.asarray([connectivity_n, 1, 1, 1,\n",
    "                                  initial_condition_n_free])"
   ]
  },
  {
   "cell_type": "code",
   "execution_count": 5,
   "metadata": {
    "executionInfo": {
     "elapsed": 640,
     "status": "ok",
     "timestamp": 1694792629487,
     "user": {
      "displayName": "Zehui Zhao",
      "userId": "13690192606367135968"
     },
     "user_tz": 240
    },
    "id": "Jq_wqYWYzP4-"
   },
   "outputs": [],
   "source": [
    "# load parameters\n",
    "[sub_part_r_s, sub_part_n_s, unscaled_mean, unscaled_std,\n",
    " connectivity_n,\n",
    " in_r, rewiring_prob,\n",
    " connectivity_s] = load_as_list(subdirectory + \"parameter_s_1.npz\")\n",
    "\n",
    "[sub_part_n_s_ext_gen, \n",
    " ext_part_n, ext_sub_part_r_s,\n",
    " ext_sub_part_n_s,\n",
    " unscaled_ext_mean, unscaled_ext_std, \n",
    " ext_connectivity_n,\n",
    " ext_connectivity_s] = load_as_list(subdirectory + \"parameter_s_2.npz\")\n",
    "\n",
    "[phase_n,\n",
    " phase_s] = load_as_list(subdirectory + \"parameter_s_3.npz\")\n",
    "\n",
    "[amp_s, freq_s,\n",
    " wave_s,\n",
    " wave_n] = load_as_list(subdirectory + \"parameter_s_4.npz\")\n",
    "\n",
    "[initial_condition_n,\n",
    " ext_condition_n, initial_condition_n_free,\n",
    " initial_condition_s] = load_as_list(subdirectory + \"parameter_s_5.npz\")\n",
    "\n",
    "[label_s, label_s_free,\n",
    " time_interval_s] = load_as_list(subdirectory + \"parameter_s_6.npz\")\n",
    "labeled_time_interval_s = [time_interval_s, label_s]\n",
    "labeled_time_interval_s_free = [time_interval_s, label_s_free]\n",
    "\n",
    "[resolution] = load_as_list(subdirectory + \"parameter_s_7.npz\")\n",
    "\n",
    "condition_n_s = jnp.asarray([connectivity_n, wave_n, ext_connectivity_n, phase_n,\n",
    "                             initial_condition_n])\n",
    "condition_n_s_free = jnp.asarray([connectivity_n, 1, 1, 1,\n",
    "                                  initial_condition_n_free])"
   ]
  },
  {
   "cell_type": "code",
   "execution_count": 6,
   "metadata": {
    "colab": {
     "base_uri": "https://localhost:8080/",
     "height": 147
    },
    "executionInfo": {
     "elapsed": 1253,
     "status": "ok",
     "timestamp": 1694791055376,
     "user": {
      "displayName": "Zehui Zhao",
      "userId": "13690192606367135968"
     },
     "user_tz": 240
    },
    "id": "Y0xRpQYrGWeG",
    "outputId": "01288d61-fc5d-4efa-f631-4ce3b2073aa5"
   },
   "outputs": [
    {
     "data": {
      "image/png": "[encoded data removed]",
      "text/plain": [
       "<Figure size 640x480 with 5 Axes>"
      ]
     },
     "metadata": {},
     "output_type": "display_data"
    }
   ],
   "source": [
    "# plot spectra\n",
    "[fig, subfig_s] = plt.subplots(1, int(connectivity_n))\n",
    "for connectivity_idx in range(connectivity_n):\n",
    "  temp_spectrum = jnp.linalg.eig(connectivity_s[connectivity_idx])[0]\n",
    "  subfig_s[connectivity_idx].plot(jnp.real(temp_spectrum), jnp.imag(temp_spectrum),\n",
    "                                  linestyle=\"\", marker=\".\", markersize = 2)\n",
    "  subfig_s[connectivity_idx].set_aspect('equal')"
   ]
  },
  {
   "cell_type": "code",
   "execution_count": 7,
   "metadata": {},
   "outputs": [
    {
     "name": "stdout",
     "output_type": "stream",
     "text": [
      "[5, 'connectivity_n']\n",
      "[1, 'wave_n']\n",
      "[1, 'ext_connectivity_n']\n",
      "[1, 'phase_n']\n",
      "[45, 'initial_condition_n']\n",
      "2 stats\n",
      "expecting 7.17 mins\n",
      "[5, 'connectivity_n']\n",
      "[3, 'wave_n']\n",
      "[3, 'ext_connectivity_n']\n",
      "[3, 'phase_n']\n",
      "[5, 'initial_condition_n']\n",
      "2 stats\n",
      "expecting 22.50 mins\n",
      "took 29.21 mins\n"
     ]
    }
   ],
   "source": [
    "# initialize and run stats\n",
    "def short_mean_cov_fct(traj):\n",
    "  return(mean_cov_fct(traj[..., (waiting_len * resolution):]))\n",
    "\n",
    "start_time = time.time()\n",
    "\n",
    "stat_s_free = mean_cov_s_initializer(condition_n_s_free, part_n)\n",
    "stat_s_free = stat_s_fct(connectivity_s, wave_s[:1], ext_connectivity_s[:1], phase_s[:1], initial_condition_s,\n",
    "                         labeled_time_interval_s_free, resolution,\n",
    "                         short_mean_cov_fct, stat_s_free)\n",
    "np.savez_compressed(subdirectory + \"stats_free.npz\", *stat_s_free) # jax has not implemented savez_compressed as of 23/08/23\n",
    "\n",
    "stat_s = mean_cov_s_initializer(condition_n_s, part_n)\n",
    "stat_s = stat_s_fct(connectivity_s, wave_s, ext_connectivity_s, phase_s, initial_condition_s[::ext_condition_n],\n",
    "                    labeled_time_interval_s, resolution, \n",
    "                    short_mean_cov_fct, stat_s)\n",
    "np.savez_compressed(subdirectory + \"stats.npz\", *stat_s)\n",
    "\n",
    "end_time = time.time()\n",
    "print(\"took {:.2f} mins\".format((end_time - start_time) / 60))"
   ]
  },
  {
   "cell_type": "code",
   "execution_count": 5,
   "metadata": {
    "executionInfo": {
     "elapsed": 6213,
     "status": "ok",
     "timestamp": 1694792799220,
     "user": {
      "displayName": "Zehui Zhao",
      "userId": "13690192606367135968"
     },
     "user_tz": 240
    },
    "id": "CVjqnBWpW6-m"
   },
   "outputs": [],
   "source": [
    "# load stats\n",
    "stat_s_free = load_as_list(subdirectory + \"stats_free.npz\")\n",
    "stat_s = load_as_list(subdirectory + \"stats.npz\")"
   ]
  },
  {
   "cell_type": "code",
   "execution_count": 16,
   "metadata": {},
   "outputs": [
    {
     "data": {
      "image/png": "[encoded data removed]",
      "text/plain": [
       "<Figure size 640x480 with 5 Axes>"
      ]
     },
     "metadata": {},
     "output_type": "display_data"
    }
   ],
   "source": [
    "# verify chaos\n",
    "[fig, subfig_s] = plt.subplots(int(connectivity_n),1)\n",
    "for connectivity_idx in range(connectivity_n):\n",
    "  subfig_s[connectivity_idx].errorbar(jnp.arange(initial_condition_n_free), \n",
    "                                      jnp.mean(stat_s_free[0][connectivity_idx,0,0,0], axis = -1),\n",
    "                                      yerr=jnp.mean(jnp.diagonal(stat_s_free[1][connectivity_idx,0,0,0], \n",
    "                                                            axis1=-1, axis2=-2), \n",
    "                                               axis = -1))\n",
    "  subfig_s[connectivity_idx].set_ylim(-1,1)\n",
    "  subfig_s[connectivity_idx].grid()"
   ]
  },
  {
   "cell_type": "markdown",
   "metadata": {
    "id": "UIfLyRWcurqN"
   },
   "source": [
    "means and pcs"
   ]
  },
  {
   "cell_type": "code",
   "execution_count": 10,
   "metadata": {
    "executionInfo": {
     "elapsed": 8638,
     "status": "ok",
     "timestamp": 1694795547441,
     "user": {
      "displayName": "Zehui Zhao",
      "userId": "13690192606367135968"
     },
     "user_tz": 240
    },
    "id": "xqGrtyphvKsJ"
   },
   "outputs": [],
   "source": [
    "mean_s_free = mean_s_fct(traj_s_free)\n",
    "mean_s = mean_s_fct(traj_s)\n",
    "cov_s_free = cov_s_fct(traj_s_free, mean_s_free)\n",
    "cov_s = cov_s_fct(traj_s, mean_s)\n",
    "pc_s_free = es_s_fct(cov_s_free)\n",
    "pc_s = es_s_fct(cov_s)"
   ]
  },
  {
   "cell_type": "code",
   "execution_count": 11,
   "metadata": {},
   "outputs": [],
   "source": [
    "short_interval_len_s = jnp.asarray([2,3,4,5,6,10,12,15,20,30])\n",
    "short_interval_n_s = 600 // short_interval_len_s\n",
    "short_interval_len_n = short_interval_len_s.shape[0]"
   ]
  },
  {
   "cell_type": "code",
   "execution_count": null,
   "metadata": {},
   "outputs": [],
   "source": [
    "pr_r_s_free = jnp.zeros((connectivity_n, 1, 1, 1, initial_condition_n_free, short_interval_len_n))\n",
    "pr_r_s = jnp.zeros((connectivity_n, wave_n, ext_connectivity_n, phase_n, initial_condition_n, short_interval_len_n))\n",
    "tr_r_s_free = jnp.zeros((connectivity_n, 1, 1, 1, initial_condition_n_free, short_interval_len_n))\n",
    "tr_r_s = jnp.zeros((connectivity_n, wave_n, ext_connectivity_n, phase_n, initial_condition_n, short_interval_len_n))\n",
    "os_s_free = jnp.zeros((connectivity_n, 1, 1, 1, initial_condition_n_free, short_interval_len_n))\n",
    "os_s = jnp.zeros((connectivity_n, wave_n, ext_connectivity_n, phase_n, initial_condition_n, short_interval_len_n))"
   ]
  },
  {
   "cell_type": "markdown",
   "metadata": {
    "id": "_QyZAaj-30_u"
   },
   "source": [
    "preliminary plotting"
   ]
  },
  {
   "cell_type": "code",
   "execution_count": null,
   "metadata": {
    "id": "OBsV2-xbyE9h"
   },
   "outputs": [],
   "source": [
    "# for later plotting\n",
    "import matplotlib.patches as mpatches\n",
    "color_s = plt.rcParams['axes.prop_cycle'].by_key()['color']"
   ]
  },
  {
   "cell_type": "code",
   "execution_count": null,
   "metadata": {
    "colab": {
     "base_uri": "https://localhost:8080/",
     "height": 1000
    },
    "executionInfo": {
     "elapsed": 5753,
     "status": "ok",
     "timestamp": 1693909359957,
     "user": {
      "displayName": "Zehui Zhao",
      "userId": "13690192606367135968"
     },
     "user_tz": -480
    },
    "id": "_qBuuNs01QIK",
    "outputId": "73dc879e-6687-4c06-8796-4a9826464d72"
   },
   "outputs": [],
   "source": [
    "handle_s = [mpatches.Patch(color=color_s[short_interval_idx], label=short_interval_idx)\n",
    "for short_interval_idx in range(short_interval_n)]\n",
    "\n",
    "cov_s_free_reshaped = stat_s_free[2].reshape((connectivity_n, 1,\n",
    "                                              ext_connectivity_n, phase_n, initial_condition_n,\n",
    "                                              short_interval_n))\n",
    "plt.figure()\n",
    "plt.title(\"amp={}\".format(0.0))\n",
    "for short_interval_idx in range(short_interval_n):\n",
    "  for initial_condition_idx in range(initial_condition_n):\n",
    "    plt.plot(cov_s_free_reshaped[:, :, :, :, initial_condition_idx, short_interval_idx].flatten(),\n",
    "              label = short_interval_idx,\n",
    "              marker='.', linestyle='', color = color_s[short_interval_idx])\n",
    "plt.legend(handles=handle_s, loc=\"upper right\")\n",
    "fig = plt.gcf()\n",
    "fig.set_size_inches(9, 3)\n",
    "\n",
    "for wave_idx in range(wave_s.shape[0]):\n",
    "  plt.figure()\n",
    "  plt.title(\"amp={:n}\".format(wave_s[wave_idx, 0]))\n",
    "  for short_interval_idx in range(jnp.sum(short_interval_n_in_long_s)):\n",
    "    for initial_condition_idx in range(initial_condition_n):\n",
    "      plt.plot(stat_s[2][:, wave_idx, :, :, initial_condition_idx, short_interval_idx].flatten(),\n",
    "             label = short_interval_idx,\n",
    "             marker='.', linestyle='', color = color_s[short_interval_idx])\n",
    "  plt.legend(handles=handle_s, loc=\"upper right\")\n",
    "  fig = plt.gcf()\n",
    "  fig.set_size_inches(9, 3)"
   ]
  },
  {
   "cell_type": "code",
   "execution_count": null,
   "metadata": {
    "colab": {
     "base_uri": "https://localhost:8080/",
     "height": 291
    },
    "executionInfo": {
     "elapsed": 1215,
     "status": "ok",
     "timestamp": 1693909424426,
     "user": {
      "displayName": "Zehui Zhao",
      "userId": "13690192606367135968"
     },
     "user_tz": -480
    },
    "id": "UaUBcMhdmUct",
    "outputId": "3af9b843-53e8-4c8e-b436-d3a77fb2fd9e"
   },
   "outputs": [],
   "source": [
    "idx = [4,0,0,0]\n",
    "samp_tr = jnp.concatenate(jnp.transpose(stat_s_free[4][idx[0], idx[1], idx[2], idx[3], :, :],(1,0,2)),axis = -1)\n",
    "for idx2 in range(initial_condition_n):\n",
    "  plt.plot(samp_tr[idx2])\n",
    "fig = plt.gcf()\n",
    "fig.set_size_inches(12, 3)"
   ]
  },
  {
   "cell_type": "markdown",
   "metadata": {
    "id": "j2N2sYsb17ao"
   },
   "source": [
    "pr plots"
   ]
  },
  {
   "cell_type": "code",
   "execution_count": null,
   "metadata": {
    "colab": {
     "base_uri": "https://localhost:8080/",
     "height": 354
    },
    "executionInfo": {
     "elapsed": 1212,
     "status": "ok",
     "timestamp": 1693909431413,
     "user": {
      "displayName": "Zehui Zhao",
      "userId": "13690192606367135968"
     },
     "user_tz": -480
    },
    "id": "N9-ncINjWiCS",
    "outputId": "41af40fc-e086-4598-d677-ae1dacfd4e6b"
   },
   "outputs": [],
   "source": [
    "# pr fluctuation over time intervals and initial conditions\n",
    "pr_t_mean_free = jnp.mean(stat_s_free[2][:,:,:,:,:,1:], axis = 5, keepdims = True)\n",
    "pr_t_error_r_free = (stat_s_free[2][:,:,:,:,:,1:] - pr_t_mean_free) / pr_t_mean_free\n",
    "pr_ic_mean_free = jnp.mean(stat_s_free[2][:,:,:,:,:,1:], axis = 4, keepdims = True)\n",
    "pr_ic_error_r_free = (stat_s_free[2][:,:,:,:,:,1:] - pr_ic_mean_free) / pr_ic_mean_free\n",
    "\n",
    "pr_t_mean = jnp.mean(stat_s[2][:,:,:,:,:,1:], axis = 5, keepdims = True)\n",
    "pr_t_error_r = (stat_s[2][:,:,:,:,:,1:] - pr_t_mean) / pr_t_mean\n",
    "pr_ic_mean = jnp.mean(stat_s[2][:,:,:,:,:,1:], axis = 4, keepdims = True)\n",
    "pr_ic_error_r = (stat_s[2][:,:,:,:,:,1:] - pr_ic_mean) / pr_ic_mean\n",
    "\n",
    "amp_s_all = jnp.concatenate([jnp.asarray([0.0]), jnp.ravel(amp_s)])\n",
    "amp_s_all_t_plt = jnp.concatenate([jnp.full((pr_t_error_r_free.size, ), 0.0), jnp.concatenate([jnp.full((pr_t_error_r[:,wave_idx].size, ), amp_s[wave_idx]) for wave_idx in range(wave_s.shape[0])])])\n",
    "amp_s_all_ic_plt = jnp.concatenate([jnp.full((pr_ic_error_r_free.size, ), 0.0), jnp.concatenate([jnp.full((pr_ic_error_r[:,wave_idx].size, ), amp_s[wave_idx]) for wave_idx in range(wave_s.shape[0])])])\n",
    "pr_t_error_r_plt = jnp.concatenate([pr_t_error_r_free.flatten(), jnp.concatenate([pr_t_error_r[:,wave_idx].flatten() for wave_idx in range(wave_s.shape[0])])])\n",
    "pr_ic_error_r_plt = jnp.concatenate([pr_ic_error_r_free.flatten(), jnp.concatenate([pr_ic_error_r[:,wave_idx].flatten() for wave_idx in range(wave_s.shape[0])])])\n",
    "\n",
    "plt.figure()\n",
    "plt.title(\"pr fluctuation across time & initial conditions\"+\"\\neach dot is one instance of quenched disorder\")\n",
    "plt.plot(amp_s_all_t_plt, pr_t_error_r_plt, label = \"over time\",\n",
    "              marker='.', linestyle='', color = color_s[0])\n",
    "plt.plot(amp_s_all_ic_plt+0.01, pr_ic_error_r_plt, label = \"over i.c.s\",\n",
    "              marker='.', linestyle='', color = color_s[1])\n",
    "plt.legend(loc=\"upper right\")\n",
    "plt.xlabel(\"external input strength\")\n",
    "plt.ylabel(\"pr %diff\")\n",
    "fig = plt.gcf()\n",
    "fig.set_size_inches(9, 3)"
   ]
  },
  {
   "cell_type": "code",
   "execution_count": null,
   "metadata": {
    "colab": {
     "base_uri": "https://localhost:8080/",
     "height": 354
    },
    "executionInfo": {
     "elapsed": 763,
     "status": "ok",
     "timestamp": 1693909432169,
     "user": {
      "displayName": "Zehui Zhao",
      "userId": "13690192606367135968"
     },
     "user_tz": -480
    },
    "id": "SwVgeTX-9nva",
    "outputId": "1b5fb2b9-a367-4004-de10-d8bd015e82fe"
   },
   "outputs": [],
   "source": [
    "short_pr_mean_s_free = jnp.mean(stat_s_free[2][:,:,:,:,:,1:], axis = (4,5), keepdims = True)\n",
    "pr_ls_error_r_s_free = (stat_s_free[3][:,:,:,:,:,1:] - short_pr_mean_s_free) / short_pr_mean_s_free\n",
    "short_pr_mean_s = jnp.mean(stat_s[2][:,:,:,:,:,1:], axis = (4,5), keepdims = True)\n",
    "pr_ls_error_r_s = (stat_s[3][:,:,:,:,:,1:] - short_pr_mean_s) / short_pr_mean_s\n",
    "\n",
    "amp_s_all = jnp.concatenate([jnp.asarray([0.0]), jnp.ravel(amp_s)])\n",
    "amp_s_all_ls_plt = jnp.concatenate([jnp.full((pr_ls_error_r_s_free.size, ), 0.0), jnp.concatenate([jnp.full((pr_ls_error_r_s[:,wave_idx].size, ), amp_s[wave_idx]) for wave_idx in range(wave_s.shape[0])])])\n",
    "pr_ls_error_r_plt = jnp.concatenate([pr_ls_error_r_s_free.flatten(), jnp.concatenate([pr_ls_error_r_s[:,wave_idx].flatten() for wave_idx in range(wave_s.shape[0])])])\n",
    "\n",
    "plt.figure()\n",
    "plt.title(\"pr difference across T\"+\"\\neach dot is one instance of quenched disorder\")\n",
    "plt.plot(amp_s_all_ls_plt, pr_ls_error_r_plt,\n",
    "              marker='.', linestyle='', color = color_s[0])\n",
    "#plt.legend(loc=\"upper right\")\n",
    "plt.xlabel(\"external input strength\")\n",
    "plt.ylabel(\"(long - short)/short\")\n",
    "fig = plt.gcf()\n",
    "fig.set_size_inches(9, 3)"
   ]
  },
  {
   "cell_type": "code",
   "execution_count": null,
   "metadata": {
    "colab": {
     "base_uri": "https://localhost:8080/",
     "height": 354
    },
    "executionInfo": {
     "elapsed": 1194,
     "status": "ok",
     "timestamp": 1693909434831,
     "user": {
      "displayName": "Zehui Zhao",
      "userId": "13690192606367135968"
     },
     "user_tz": -480
    },
    "id": "F2E8bamRxdKm",
    "outputId": "c9a934ff-ffd8-401b-c1ff-8b52d8802e93"
   },
   "outputs": [],
   "source": [
    "pr_amp_mean_s_free = jnp.mean(stat_s_free[2][:,:,:,:,:,1:], axis = (4,5), keepdims = True)\n",
    "pr_amp_mean_s = jnp.mean(stat_s[2][:,:,:,:,:,1:], axis = (4,5), keepdims = True)\n",
    "\n",
    "amp_s_all = jnp.concatenate([jnp.asarray([0.0]), jnp.ravel(amp_s)])\n",
    "amp_s_all_ls_plt = jnp.concatenate([jnp.full((pr_amp_mean_s_free.size, ), 0.0), jnp.concatenate([jnp.full((pr_amp_mean_s[:,wave_idx].size, ), amp_s[wave_idx]) for wave_idx in range(wave_s.shape[0])])])\n",
    "pr_amp_mean_s_plt = jnp.concatenate([pr_amp_mean_s_free.flatten(), jnp.concatenate([pr_amp_mean_s[:,wave_idx].flatten() for wave_idx in range(wave_s.shape[0])])])\n",
    "\n",
    "plt.figure()\n",
    "plt.title(\"pr difference across external strengths\"+\"\\neach dot is one instance of quenched disorder\")\n",
    "plt.plot(amp_s_all_ls_plt, pr_amp_mean_s_plt,\n",
    "              marker='.', linestyle='', color = color_s[0])\n",
    "#plt.legend(loc=\"upper right\")\n",
    "plt.xlabel(\"external input strength\")\n",
    "plt.ylabel(\"mean short pr\")\n",
    "fig = plt.gcf()\n",
    "fig.set_size_inches(9, 3)"
   ]
  },
  {
   "cell_type": "markdown",
   "metadata": {
    "id": "FpQxSFkO57Fn"
   },
   "source": [
    "tr plots"
   ]
  },
  {
   "cell_type": "code",
   "execution_count": null,
   "metadata": {
    "id": "w7Mx3ORn591b"
   },
   "outputs": [],
   "source": [
    "tr_s_free = jnp.trace(stat_s_free[1][:,:,:,:,:,1:], axis1=-1, axis2=-2)\n",
    "tr_s = jnp.trace(stat_s[1][:,:,:,:,:,1:], axis1=-1, axis2=-2)\n",
    "long_tr_s_free = jnp.trace(jnp.mean(stat_s_free[1][:,:,:,:,:,1:], axis = 5, keepdims = True), axis1=-1, axis2=-2)\n",
    "long_tr_s = jnp.trace(jnp.mean(stat_s[1][:,:,:,:,:,1:], axis = 5, keepdims = True), axis1=-1, axis2=-2)"
   ]
  },
  {
   "cell_type": "code",
   "execution_count": null,
   "metadata": {
    "colab": {
     "base_uri": "https://localhost:8080/",
     "height": 354
    },
    "executionInfo": {
     "elapsed": 686,
     "status": "ok",
     "timestamp": 1693909445005,
     "user": {
      "displayName": "Zehui Zhao",
      "userId": "13690192606367135968"
     },
     "user_tz": -480
    },
    "id": "rzAL-yBi591d",
    "outputId": "edcdea13-5690-444b-9aaa-b3fafdffcc5e"
   },
   "outputs": [],
   "source": [
    "# det fluctuation over time intervals and initial conditions\n",
    "tr_t_mean_free = jnp.mean(tr_s_free, axis = 5, keepdims = True)\n",
    "tr_t_error_r_free = (tr_s_free - tr_t_mean_free) / tr_t_mean_free\n",
    "tr_ic_mean_free = jnp.mean(tr_s_free, axis = 4, keepdims = True)\n",
    "tr_ic_error_r_free = (tr_s_free - tr_ic_mean_free) / tr_ic_mean_free\n",
    "\n",
    "tr_t_mean = jnp.mean(tr_s, axis = 5, keepdims = True)\n",
    "tr_t_error_r = (tr_s - tr_t_mean) / tr_t_mean\n",
    "tr_ic_mean = jnp.mean(tr_s, axis = 4, keepdims = True)\n",
    "tr_ic_error_r = (tr_s - tr_ic_mean) / tr_ic_mean\n",
    "\n",
    "amp_s_all = jnp.concatenate([jnp.asarray([0.0]), jnp.ravel(amp_s)])\n",
    "amp_s_all_t_plt = jnp.concatenate([jnp.full((tr_t_error_r_free.size, ), 0.0), jnp.concatenate([jnp.full((tr_t_error_r[:,wave_idx].size, ), amp_s[wave_idx]) for wave_idx in range(wave_s.shape[0])])])\n",
    "amp_s_all_ic_plt = jnp.concatenate([jnp.full((tr_ic_error_r_free.size, ), 0.0), jnp.concatenate([jnp.full((tr_ic_error_r[:,wave_idx].size, ), amp_s[wave_idx]) for wave_idx in range(wave_s.shape[0])])])\n",
    "tr_t_error_r_plt = jnp.concatenate([tr_t_error_r_free.flatten(), jnp.concatenate([tr_t_error_r[:,wave_idx].flatten() for wave_idx in range(wave_s.shape[0])])])\n",
    "tr_ic_error_r_plt = jnp.concatenate([tr_ic_error_r_free.flatten(), jnp.concatenate([tr_ic_error_r[:,wave_idx].flatten() for wave_idx in range(wave_s.shape[0])])])\n",
    "\n",
    "plt.figure()\n",
    "plt.title(\"tr fluctuation across time & initial conditions\"+\"\\neach dot is one instance of quenched disorder\")\n",
    "plt.plot(amp_s_all_t_plt, tr_t_error_r_plt, label = \"over time\",\n",
    "              marker='.', linestyle='', color = color_s[0])\n",
    "plt.plot(amp_s_all_ic_plt+0.01, tr_ic_error_r_plt, label = \"over i.c.s\",\n",
    "              marker='.', linestyle='', color = color_s[1])\n",
    "plt.legend(loc=\"upper right\")\n",
    "plt.xlabel(\"external input strength\")\n",
    "plt.ylabel(\"tr %diff\")\n",
    "fig = plt.gcf()\n",
    "fig.set_size_inches(9, 3)"
   ]
  },
  {
   "cell_type": "code",
   "execution_count": null,
   "metadata": {
    "colab": {
     "base_uri": "https://localhost:8080/",
     "height": 354
    },
    "executionInfo": {
     "elapsed": 524,
     "status": "ok",
     "timestamp": 1693909445520,
     "user": {
      "displayName": "Zehui Zhao",
      "userId": "13690192606367135968"
     },
     "user_tz": -480
    },
    "id": "b1bRubMx591g",
    "outputId": "311e9381-3d58-4010-da04-938e9263e399"
   },
   "outputs": [],
   "source": [
    "short_tr_mean_s_free = jnp.mean(tr_s_free, axis = (4,5), keepdims = True)\n",
    "tr_ls_error_r_s_free = (long_tr_s_free - short_tr_mean_s_free) / short_tr_mean_s_free\n",
    "short_tr_mean_s = jnp.mean(tr_s, axis = (4,5), keepdims = True)\n",
    "tr_ls_error_r_s = (long_tr_s - short_tr_mean_s) / short_tr_mean_s\n",
    "\n",
    "amp_s_all = jnp.concatenate([jnp.asarray([0.0]), jnp.ravel(amp_s)])\n",
    "amp_s_all_ls_plt = jnp.concatenate([jnp.full((tr_ls_error_r_s_free.size, ), 0.0), jnp.concatenate([jnp.full((tr_ls_error_r_s[:,wave_idx].size, ), amp_s[wave_idx]) for wave_idx in range(wave_s.shape[0])])])\n",
    "tr_ls_error_r_plt = jnp.concatenate([tr_ls_error_r_s_free.flatten(), jnp.concatenate([tr_ls_error_r_s[:,wave_idx].flatten() for wave_idx in range(wave_s.shape[0])])])\n",
    "\n",
    "plt.figure()\n",
    "plt.title(\"tr difference across T\"+\"\\neach dot is one instance of quenched disorder\")\n",
    "plt.plot(amp_s_all_ls_plt, tr_ls_error_r_plt,\n",
    "              marker='.', linestyle='', color = color_s[0])\n",
    "#plt.legend(loc=\"upper right\")\n",
    "plt.xlabel(\"external input strength\")\n",
    "plt.ylabel(\"(long - short)/short\")\n",
    "fig = plt.gcf()\n",
    "fig.set_size_inches(9, 3)"
   ]
  },
  {
   "cell_type": "code",
   "execution_count": null,
   "metadata": {
    "colab": {
     "base_uri": "https://localhost:8080/",
     "height": 354
    },
    "executionInfo": {
     "elapsed": 11,
     "status": "ok",
     "timestamp": 1693909445521,
     "user": {
      "displayName": "Zehui Zhao",
      "userId": "13690192606367135968"
     },
     "user_tz": -480
    },
    "id": "yeKZWUw_591i",
    "outputId": "a9558787-25ae-48de-cfae-3a9486d8110d"
   },
   "outputs": [],
   "source": [
    "tr_amp_mean_s_free = jnp.mean(tr_s_free, axis = (4,5), keepdims = True)\n",
    "tr_amp_mean_s = jnp.mean(tr_s, axis = (4,5), keepdims = True)\n",
    "\n",
    "amp_s_all = jnp.concatenate([jnp.asarray([0.0]), jnp.ravel(amp_s)])\n",
    "amp_s_all_ls_plt = jnp.concatenate([jnp.full((tr_amp_mean_s_free.size, ), 0.0), jnp.concatenate([jnp.full((tr_amp_mean_s[:,wave_idx].size, ), amp_s[wave_idx]) for wave_idx in range(wave_s.shape[0])])])\n",
    "tr_amp_mean_s_plt = jnp.concatenate([tr_amp_mean_s_free.flatten(), jnp.concatenate([tr_amp_mean_s[:,wave_idx].flatten() for wave_idx in range(wave_s.shape[0])])])\n",
    "\n",
    "plt.figure()\n",
    "plt.title(\"tr difference across external strengths\"+\"\\neach dot is one instance of quenched disorder\")\n",
    "plt.plot(amp_s_all_ls_plt, tr_amp_mean_s_plt,\n",
    "              marker='.', linestyle='', color = color_s[0])\n",
    "#plt.legend(loc=\"upper right\")\n",
    "plt.xlabel(\"external input strength\")\n",
    "plt.ylabel(\"mean short tr\")\n",
    "fig = plt.gcf()\n",
    "fig.set_size_inches(9, 3)"
   ]
  },
  {
   "cell_type": "markdown",
   "metadata": {
    "id": "OM6ISM1I2DhF"
   },
   "source": [
    "cov plots"
   ]
  },
  {
   "cell_type": "code",
   "execution_count": null,
   "metadata": {
    "id": "AWuJ2iRiCy8l"
   },
   "outputs": [],
   "source": [
    "#free similarities\n",
    "cov_t_similarity_s_free = matched_cov_similarity_s_fct(stat_s_free[1][:,:,:,:,:,(1+1):], stat_s_free[1][:,:,:,:,:,1:-1])\n",
    "\n",
    "cov_ic_similarity_s_free = matched_cov_similarity_s_fct(stat_s_free[1][:,:,:,:,1:,1:], stat_s_free[1][:,:,:,:,:-1,1:])\n",
    "\n",
    "long_cov_s_free = jnp.mean(stat_s_free[1][:,:,:,:,:,1:], axis = 5)\n",
    "cov_ls_similarity_s_free = [matched_cov_similarity_s_fct(stat_s_free[1][:,:,:,:,:,short_interval_idx], long_cov_s_free)\n",
    "for short_interval_idx in range(1, short_interval_n)]\n",
    "\n",
    "# cov_s_ext_reshaped_free = stat_s_free[1].reshape((connectivity_n, wave_n, ext_condition_n, initial_condition_n, short_interval_n, part_n, part_n))\n",
    "# cov_ext_similarity_s_free = matched_cov_similarity_s_fct(cov_s_ext_reshaped_free[:,:,1:,:,1:], cov_s_ext_reshaped_free[:,:,:-1,:,1:])\n",
    "\n",
    "cov_sys_similarity_s_free = matched_cov_similarity_s_fct(stat_s_free[1][1:,:,:,:,:,1:], stat_s_free[1][:-1,:,:,:,:,1:])"
   ]
  },
  {
   "cell_type": "code",
   "execution_count": null,
   "metadata": {
    "id": "qwz2yU89CPZe"
   },
   "outputs": [],
   "source": [
    "#driven similarities\n",
    "cov_t_similarity_s = matched_cov_similarity_s_fct(stat_s[1][:,:,:,:,:,(1+1):], stat_s[1][:,:,:,:,:,1:-1])\n",
    "\n",
    "cov_ic_similarity_s = matched_cov_similarity_s_fct(stat_s[1][:,:,:,:,1:,1:], stat_s[1][:,:,:,:,:-1,1:])\n",
    "\n",
    "long_cov_s = jnp.mean(stat_s[1][:,:,:,:,:,1:], axis = 5)\n",
    "cov_ls_similarity_s = [matched_cov_similarity_s_fct(stat_s[1][:,:,:,:,:,short_interval_idx], long_cov_s)\n",
    "for short_interval_idx in range(1, short_interval_n)]\n",
    "\n",
    "cov_s_ext_reshaped = stat_s[1].reshape((connectivity_n, wave_n, ext_condition_n, initial_condition_n, short_interval_n, part_n, part_n))\n",
    "cov_ext_similarity_s = matched_cov_similarity_s_fct(cov_s_ext_reshaped[:,:,1:,:,1:], cov_s_ext_reshaped[:,:,:-1,:,1:])\n",
    "\n",
    "cov_sys_similarity_s = matched_cov_similarity_s_fct(stat_s[1][1:,:,:,:,:,1:], stat_s[1][:-1,:,:,:,:,1:])\n",
    "\n",
    "cov_free_similarity_s = [matched_cov_similarity_s_fct(stat_s[1][:,wave_idx:(wave_idx+1),:,:,:,1:], stat_s_free[1][:,:,:,:,:,1:]) for wave_idx in range(wave_n)]"
   ]
  },
  {
   "cell_type": "code",
   "execution_count": null,
   "metadata": {
    "colab": {
     "base_uri": "https://localhost:8080/",
     "height": 354
    },
    "executionInfo": {
     "elapsed": 780,
     "status": "ok",
     "timestamp": 1694660198032,
     "user": {
      "displayName": "Zehui Zhao",
      "userId": "13690192606367135968"
     },
     "user_tz": 240
    },
    "id": "n0nMRlTTN9UZ",
    "outputId": "c2804428-a9d2-4098-cb03-c58363538039"
   },
   "outputs": [],
   "source": [
    "plt.figure()\n",
    "plt.title(\"ori similarities across types of comparisons\"+\"\\neach data point is averaged over all other axes within each external input strength\")\n",
    "for wave_idx in range(wave_n):\n",
    "  plt.errorbar([\"t\", \"ic\", \"ls\", \"ext\", \"free\", \"sys\"],\n",
    " [jnp.mean(cov_t_similarity_s[:,wave_idx]),\n",
    "  jnp.mean(cov_ic_similarity_s[:,wave_idx]),\n",
    "  jnp.mean(jnp.asarray(cov_ls_similarity_s)[:,:,wave_idx]),\n",
    "  jnp.mean(cov_ext_similarity_s[:,wave_idx]),\n",
    "  jnp.mean(cov_sys_similarity_s[:,wave_idx]),\n",
    "  jnp.mean(cov_free_similarity_s[wave_idx])],\n",
    "             yerr = [jnp.std(cov_t_similarity_s[:,wave_idx]),\n",
    "                     jnp.std(cov_ic_similarity_s[:,wave_idx]),\n",
    "                     jnp.std(jnp.asarray(cov_ls_similarity_s)[:,:,wave_idx]),\n",
    "                     jnp.std(cov_ext_similarity_s[:,wave_idx]),\n",
    "                     jnp.std(cov_sys_similarity_s[:,wave_idx]),\n",
    "                     jnp.std(cov_free_similarity_s[wave_idx])],\n",
    "              capsize = 3, color = color_s[wave_idx], label = wave_s[wave_idx,0])\n",
    "plt.errorbar([\"t\", \"ic\", \"ls\", \"ext\", \"free\", \"sys\"],\n",
    " [jnp.mean(cov_t_similarity_s_free),\n",
    "  jnp.mean(cov_ic_similarity_s_free),\n",
    "  jnp.mean(jnp.asarray(cov_ls_similarity_s_free)),\n",
    "  1,1,\n",
    "  jnp.mean(cov_sys_similarity_s_free)],\n",
    "             yerr = [jnp.std(cov_t_similarity_s_free),\n",
    "                     jnp.std(cov_ic_similarity_s_free),\n",
    "                     jnp.std(jnp.asarray(cov_ls_similarity_s_free)),\n",
    "                     0,0,\n",
    "                     jnp.std(cov_sys_similarity_s_free)],\n",
    "              capsize = 3, color = color_s[wave_n], label = 0.0)\n",
    "plt.legend(loc=\"upper right\")\n",
    "plt.xlabel(\"types of comparisons\")\n",
    "plt.ylabel(\"similarities\")\n",
    "plt.ylim(0.5,1)\n",
    "fig = plt.gcf()\n",
    "fig.set_size_inches(9, 3)"
   ]
  },
  {
   "cell_type": "code",
   "execution_count": null,
   "metadata": {
    "id": "sad6po4OnBHJ"
   },
   "outputs": [],
   "source": [
    "cov_amp_similarity_s = [matched_cov_similarity_s_fct(stat_s[1][:,0,:,:,:,1:], stat_s[1][:,1+idx,:,:,:,1:]) for idx in range(wave_n-1)]"
   ]
  },
  {
   "cell_type": "code",
   "execution_count": null,
   "metadata": {
    "colab": {
     "base_uri": "https://localhost:8080/",
     "height": 333
    },
    "executionInfo": {
     "elapsed": 1082,
     "status": "ok",
     "timestamp": 1694660098679,
     "user": {
      "displayName": "Zehui Zhao",
      "userId": "13690192606367135968"
     },
     "user_tz": 240
    },
    "id": "utWCYYjnjXGY",
    "outputId": "ac668851-8824-4837-82c5-62ebba7fd488"
   },
   "outputs": [],
   "source": [
    "plt.title(\"ori similarities across external input strengths\")\n",
    "plt.errorbar(amp_s[1:], [jnp.mean(sim_s) for sim_s in cov_amp_similarity_s],\n",
    "             yerr=[jnp.std(sim_s) for sim_s in cov_amp_similarity_s],\n",
    "              capsize = 3)\n",
    "plt.xlabel(\"external input strength\")\n",
    "plt.ylabel(\"similarity\")\n",
    "plt.ylim(0.5,1)\n",
    "fig = plt.gcf()\n",
    "fig.set_size_inches(4, 3)"
   ]
  },
  {
   "cell_type": "code",
   "execution_count": null,
   "metadata": {
    "id": "FYcL0_7VmU_P"
   },
   "outputs": [],
   "source": []
  }
 ],
 "metadata": {
  "colab": {
   "provenance": []
  },
  "kernelspec": {
   "display_name": "Python 3 (ipykernel)",
   "language": "python",
   "name": "python3"
  },
  "language_info": {
   "codemirror_mode": {
    "name": "ipython",
    "version": 3
   },
   "file_extension": ".py",
   "mimetype": "text/x-python",
   "name": "python",
   "nbconvert_exporter": "python",
   "pygments_lexer": "ipython3",
   "version": "3.11.5"
  }
 },
 "nbformat": 4,
 "nbformat_minor": 4
}
